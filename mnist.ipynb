{
 "cells": [
  {
   "cell_type": "markdown",
   "id": "7cb35727",
   "metadata": {
    "papermill": {
     "duration": 0.01402,
     "end_time": "2023-02-21T22:55:00.724066",
     "exception": false,
     "start_time": "2023-02-21T22:55:00.710046",
     "status": "completed"
    },
    "tags": []
   },
   "source": [
    "# <span style=\"color:blue\"> 1. Importing Libraries</span>"
   ]
  },
  {
   "cell_type": "code",
   "execution_count": 1,
   "id": "954fb2c2",
   "metadata": {
    "execution": {
     "iopub.execute_input": "2023-02-21T22:55:00.744303Z",
     "iopub.status.busy": "2023-02-21T22:55:00.743397Z",
     "iopub.status.idle": "2023-02-21T22:55:12.303867Z",
     "shell.execute_reply": "2023-02-21T22:55:12.302262Z"
    },
    "papermill": {
     "duration": 11.575492,
     "end_time": "2023-02-21T22:55:12.307394",
     "exception": false,
     "start_time": "2023-02-21T22:55:00.731902",
     "status": "completed"
    },
    "tags": []
   },
   "outputs": [],
   "source": [
    "import tensorflow as tf\n",
    "from tensorflow.keras.models import Sequential\n",
    "from tensorflow.keras.layers import Dense\n",
    "import numpy as np\n",
    "import cv2\n",
    "import matplotlib.pyplot as plt\n",
    "from sklearn.metrics import confusion_matrix, ConfusionMatrixDisplay"
   ]
  },
  {
   "cell_type": "markdown",
   "id": "4cc1550a",
   "metadata": {
    "papermill": {
     "duration": 0.006952,
     "end_time": "2023-02-21T22:55:12.321773",
     "exception": false,
     "start_time": "2023-02-21T22:55:12.314821",
     "status": "completed"
    },
    "tags": []
   },
   "source": [
    "# <span style=\"color:blue\">2. Loadings Datasets </span>"
   ]
  },
  {
   "cell_type": "code",
   "execution_count": 2,
   "id": "a908cabd",
   "metadata": {
    "execution": {
     "iopub.execute_input": "2023-02-21T22:55:12.340686Z",
     "iopub.status.busy": "2023-02-21T22:55:12.339701Z",
     "iopub.status.idle": "2023-02-21T22:55:12.346592Z",
     "shell.execute_reply": "2023-02-21T22:55:12.345147Z"
    },
    "papermill": {
     "duration": 0.01898,
     "end_time": "2023-02-21T22:55:12.349105",
     "exception": false,
     "start_time": "2023-02-21T22:55:12.330125",
     "status": "completed"
    },
    "tags": []
   },
   "outputs": [],
   "source": [
    "# Import the MNIST dataset\n",
    "mnist=tf.keras.datasets.mnist"
   ]
  },
  {
   "cell_type": "code",
   "execution_count": 3,
   "id": "56b4adeb",
   "metadata": {
    "execution": {
     "iopub.execute_input": "2023-02-21T22:55:12.365913Z",
     "iopub.status.busy": "2023-02-21T22:55:12.365236Z",
     "iopub.status.idle": "2023-02-21T22:55:13.025560Z",
     "shell.execute_reply": "2023-02-21T22:55:13.023949Z"
    },
    "papermill": {
     "duration": 0.67271,
     "end_time": "2023-02-21T22:55:13.029000",
     "exception": false,
     "start_time": "2023-02-21T22:55:12.356290",
     "status": "completed"
    },
    "tags": []
   },
   "outputs": [
    {
     "name": "stdout",
     "output_type": "stream",
     "text": [
      "Downloading data from https://storage.googleapis.com/tensorflow/tf-keras-datasets/mnist.npz\n",
      "11490434/11490434 [==============================] - 0s 0us/step\n"
     ]
    }
   ],
   "source": [
    "# Data loading\n",
    "(x_train, y_train),(x_test, y_test)=mnist.load_data()"
   ]
  },
  {
   "cell_type": "code",
   "execution_count": 4,
   "id": "157c56d9",
   "metadata": {
    "execution": {
     "iopub.execute_input": "2023-02-21T22:55:13.047569Z",
     "iopub.status.busy": "2023-02-21T22:55:13.047090Z",
     "iopub.status.idle": "2023-02-21T22:55:13.058734Z",
     "shell.execute_reply": "2023-02-21T22:55:13.057019Z"
    },
    "papermill": {
     "duration": 0.024754,
     "end_time": "2023-02-21T22:55:13.061891",
     "exception": false,
     "start_time": "2023-02-21T22:55:13.037137",
     "status": "completed"
    },
    "tags": []
   },
   "outputs": [
    {
     "data": {
      "text/plain": [
       "(10000, 28, 28)"
      ]
     },
     "execution_count": 4,
     "metadata": {},
     "output_type": "execute_result"
    }
   ],
   "source": [
    "# Dimension of x_train\n",
    "x_train.shape\n",
    "# Dimension of x_test\n",
    "x_test.shape"
   ]
  },
  {
   "cell_type": "code",
   "execution_count": 5,
   "id": "483361b4",
   "metadata": {
    "execution": {
     "iopub.execute_input": "2023-02-21T22:55:13.081126Z",
     "iopub.status.busy": "2023-02-21T22:55:13.080009Z",
     "iopub.status.idle": "2023-02-21T22:55:13.801747Z",
     "shell.execute_reply": "2023-02-21T22:55:13.800152Z"
    },
    "papermill": {
     "duration": 0.734963,
     "end_time": "2023-02-21T22:55:13.805007",
     "exception": false,
     "start_time": "2023-02-21T22:55:13.070044",
     "status": "completed"
    },
    "tags": []
   },
   "outputs": [
    {
     "data": {
      "image/png": "[encoded data removed]",
      "text/plain": [
       "<Figure size 2000x1000 with 3 Axes>"
      ]
     },
     "metadata": {},
     "output_type": "display_data"
    }
   ],
   "source": [
    "# Examples of some training images\n",
    "plt.figure(figsize=(20,10))\n",
    "for index, (image,label) in enumerate(zip(x_train[0:3],y_train[0:3])):\n",
    "  plt.subplot(1, 3, index + 1)\n",
    "  plt.imshow(np.reshape(image, (28,28)), cmap=plt.cm.gray)\n",
    "  plt.title('Label: {}'.format(label), fontsize = 20)"
   ]
  },
  {
   "cell_type": "markdown",
   "id": "c7b63217",
   "metadata": {
    "papermill": {
     "duration": 0.008751,
     "end_time": "2023-02-21T22:55:13.822203",
     "exception": false,
     "start_time": "2023-02-21T22:55:13.813452",
     "status": "completed"
    },
    "tags": []
   },
   "source": [
    "# <span style=\"color:blue\">3. Pre-processing of data </span>"
   ]
  },
  {
   "cell_type": "markdown",
   "id": "0b39904a",
   "metadata": {
    "papermill": {
     "duration": 0.008385,
     "end_time": "2023-02-21T22:55:13.839206",
     "exception": false,
     "start_time": "2023-02-21T22:55:13.830821",
     "status": "completed"
    },
    "tags": []
   },
   "source": [
    "**HOG Feature Descriptor**"
   ]
  },
  {
   "cell_type": "code",
   "execution_count": 6,
   "id": "d98e9c36",
   "metadata": {
    "execution": {
     "iopub.execute_input": "2023-02-21T22:55:13.859232Z",
     "iopub.status.busy": "2023-02-21T22:55:13.858358Z",
     "iopub.status.idle": "2023-02-21T22:55:13.885025Z",
     "shell.execute_reply": "2023-02-21T22:55:13.883381Z"
    },
    "papermill": {
     "duration": 0.040871,
     "end_time": "2023-02-21T22:55:13.888706",
     "exception": false,
     "start_time": "2023-02-21T22:55:13.847835",
     "status": "completed"
    },
    "tags": []
   },
   "outputs": [
    {
     "data": {
      "text/plain": [
       "(4356,)"
      ]
     },
     "execution_count": 6,
     "metadata": {},
     "output_type": "execute_result"
    }
   ],
   "source": [
    "# Element of x_train\n",
    "img=x_train[1]\n",
    "# Function to obtain HOG\n",
    "def get_hog():\n",
    "    winSize=img.shape\n",
    "    blockSize=(8,8) # number of parts to obtain from the image\n",
    "    blockStride=(2,2) # overlap\n",
    "    cellSize=(4,4) # scrolling window\n",
    "    nbins=9 # number of bars\n",
    "    hog=cv2.HOGDescriptor(winSize,blockSize,blockStride,cellSize,nbins)\n",
    "    return hog\n",
    "# Object\n",
    "hog=get_hog()\n",
    "# Dimension\n",
    "hog.compute(img).shape"
   ]
  },
  {
   "cell_type": "code",
   "execution_count": 7,
   "id": "5988c0b9",
   "metadata": {
    "execution": {
     "iopub.execute_input": "2023-02-21T22:55:13.908908Z",
     "iopub.status.busy": "2023-02-21T22:55:13.908406Z",
     "iopub.status.idle": "2023-02-21T22:55:13.915383Z",
     "shell.execute_reply": "2023-02-21T22:55:13.913691Z"
    },
    "papermill": {
     "duration": 0.02153,
     "end_time": "2023-02-21T22:55:13.919026",
     "exception": false,
     "start_time": "2023-02-21T22:55:13.897496",
     "status": "completed"
    },
    "tags": []
   },
   "outputs": [],
   "source": [
    "# Function to get feature dataset from HOG features\n",
    "def get_features_dataset(data):\n",
    "    features=[]\n",
    "    for img in data:\n",
    "        features.append(hog.compute(img))\n",
    "    features=np.array(features)    \n",
    "    return features"
   ]
  },
  {
   "cell_type": "code",
   "execution_count": 8,
   "id": "2cb8fd70",
   "metadata": {
    "execution": {
     "iopub.execute_input": "2023-02-21T22:55:13.940036Z",
     "iopub.status.busy": "2023-02-21T22:55:13.938360Z",
     "iopub.status.idle": "2023-02-21T22:55:23.981765Z",
     "shell.execute_reply": "2023-02-21T22:55:23.980216Z"
    },
    "papermill": {
     "duration": 10.057296,
     "end_time": "2023-02-21T22:55:23.985165",
     "exception": false,
     "start_time": "2023-02-21T22:55:13.927869",
     "status": "completed"
    },
    "tags": []
   },
   "outputs": [],
   "source": [
    "# Obtaining HOG features datasets\n",
    "features_train=get_features_dataset(x_train)\n",
    "features_test=get_features_dataset(x_test)"
   ]
  },
  {
   "cell_type": "code",
   "execution_count": 9,
   "id": "642afeca",
   "metadata": {
    "execution": {
     "iopub.execute_input": "2023-02-21T22:55:24.004601Z",
     "iopub.status.busy": "2023-02-21T22:55:24.004067Z",
     "iopub.status.idle": "2023-02-21T22:55:24.013840Z",
     "shell.execute_reply": "2023-02-21T22:55:24.012218Z"
    },
    "papermill": {
     "duration": 0.023297,
     "end_time": "2023-02-21T22:55:24.017122",
     "exception": false,
     "start_time": "2023-02-21T22:55:23.993825",
     "status": "completed"
    },
    "tags": []
   },
   "outputs": [
    {
     "data": {
      "text/plain": [
       "(10000, 4356)"
      ]
     },
     "execution_count": 9,
     "metadata": {},
     "output_type": "execute_result"
    }
   ],
   "source": [
    "# Dimension of features_train\n",
    "features_train.shape\n",
    "# Dimension of features_test\n",
    "features_test.shape"
   ]
  },
  {
   "cell_type": "code",
   "execution_count": 10,
   "id": "17c6e48f",
   "metadata": {
    "execution": {
     "iopub.execute_input": "2023-02-21T22:55:24.037079Z",
     "iopub.status.busy": "2023-02-21T22:55:24.036556Z",
     "iopub.status.idle": "2023-02-21T22:55:24.124688Z",
     "shell.execute_reply": "2023-02-21T22:55:24.123246Z"
    },
    "papermill": {
     "duration": 0.102103,
     "end_time": "2023-02-21T22:55:24.127915",
     "exception": false,
     "start_time": "2023-02-21T22:55:24.025812",
     "status": "completed"
    },
    "tags": []
   },
   "outputs": [
    {
     "name": "stderr",
     "output_type": "stream",
     "text": [
      "2023-02-21 22:55:24.061637: W tensorflow/stream_executor/platform/default/dso_loader.cc:64] Could not load dynamic library 'libcuda.so.1'; dlerror: libcuda.so.1: cannot open shared object file: No such file or directory; LD_LIBRARY_PATH: /opt/conda/lib/python3.7/site-packages/cv2/../../lib64:/usr/local/cuda/lib64:/usr/local/cuda/lib:/usr/local/lib/x86_64-linux-gnu:/usr/local/nvidia/lib:/usr/local/nvidia/lib64::/opt/conda/lib\n",
      "2023-02-21 22:55:24.061756: W tensorflow/stream_executor/cuda/cuda_driver.cc:269] failed call to cuInit: UNKNOWN ERROR (303)\n"
     ]
    }
   ],
   "source": [
    "# One-hot labels\n",
    "y_trainOneHot=tf.one_hot(y_train,np.max(y_train)+1)\n",
    "y_testOneHot=tf.one_hot(y_test,np.max(y_train)+1)"
   ]
  },
  {
   "cell_type": "code",
   "execution_count": 11,
   "id": "36f32b55",
   "metadata": {
    "execution": {
     "iopub.execute_input": "2023-02-21T22:55:24.148600Z",
     "iopub.status.busy": "2023-02-21T22:55:24.146991Z",
     "iopub.status.idle": "2023-02-21T22:55:24.173730Z",
     "shell.execute_reply": "2023-02-21T22:55:24.172368Z"
    },
    "papermill": {
     "duration": 0.039578,
     "end_time": "2023-02-21T22:55:24.176322",
     "exception": false,
     "start_time": "2023-02-21T22:55:24.136744",
     "status": "completed"
    },
    "tags": []
   },
   "outputs": [
    {
     "data": {
      "text/plain": [
       "<tf.Tensor: shape=(10,), dtype=float32, numpy=array([1., 0., 0., 0., 0., 0., 0., 0., 0., 0.], dtype=float32)>"
      ]
     },
     "execution_count": 11,
     "metadata": {},
     "output_type": "execute_result"
    }
   ],
   "source": [
    "y_trainOneHot[1]"
   ]
  },
  {
   "cell_type": "markdown",
   "id": "d3df19ba",
   "metadata": {
    "papermill": {
     "duration": 0.008625,
     "end_time": "2023-02-21T22:55:24.194087",
     "exception": false,
     "start_time": "2023-02-21T22:55:24.185462",
     "status": "completed"
    },
    "tags": []
   },
   "source": [
    "# <span style=\"color:blue\">4. Training </span>"
   ]
  },
  {
   "cell_type": "code",
   "execution_count": 12,
   "id": "e0bf0409",
   "metadata": {
    "execution": {
     "iopub.execute_input": "2023-02-21T22:55:24.214934Z",
     "iopub.status.busy": "2023-02-21T22:55:24.213510Z",
     "iopub.status.idle": "2023-02-21T22:55:24.333424Z",
     "shell.execute_reply": "2023-02-21T22:55:24.331401Z"
    },
    "papermill": {
     "duration": 0.133717,
     "end_time": "2023-02-21T22:55:24.336670",
     "exception": false,
     "start_time": "2023-02-21T22:55:24.202953",
     "status": "completed"
    },
    "tags": []
   },
   "outputs": [],
   "source": [
    "# Network\n",
    "model=Sequential()\n",
    "model.add(Dense(200,input_dim=features_train.shape[1],activation='relu'))\n",
    "model.add(Dense(180,activation='relu')) #capas ocultas\n",
    "model.add(Dense(10,activation='softmax')) #salidas\n",
    "model.compile(loss='categorical_crossentropy',optimizer=tf.keras.optimizers.SGD(learning_rate=1e-3),metrics=['accuracy'])\n",
    "   "
   ]
  },
  {
   "cell_type": "code",
   "execution_count": 13,
   "id": "af9de053",
   "metadata": {
    "execution": {
     "iopub.execute_input": "2023-02-21T22:55:24.357099Z",
     "iopub.status.busy": "2023-02-21T22:55:24.355978Z",
     "iopub.status.idle": "2023-02-21T22:55:24.384701Z",
     "shell.execute_reply": "2023-02-21T22:55:24.383123Z"
    },
    "papermill": {
     "duration": 0.041938,
     "end_time": "2023-02-21T22:55:24.387288",
     "exception": false,
     "start_time": "2023-02-21T22:55:24.345350",
     "status": "completed"
    },
    "tags": []
   },
   "outputs": [
    {
     "name": "stdout",
     "output_type": "stream",
     "text": [
      "Model: \"sequential\"\n",
      "_________________________________________________________________\n",
      " Layer (type)                Output Shape              Param #   \n",
      "=================================================================\n",
      " dense (Dense)               (None, 200)               871400    \n",
      "                                                                 \n",
      " dense_1 (Dense)             (None, 180)               36180     \n",
      "                                                                 \n",
      " dense_2 (Dense)             (None, 10)                1810      \n",
      "                                                                 \n",
      "=================================================================\n",
      "Total params: 909,390\n",
      "Trainable params: 909,390\n",
      "Non-trainable params: 0\n",
      "_________________________________________________________________\n"
     ]
    }
   ],
   "source": [
    "# Model summary\n",
    "model.summary()"
   ]
  },
  {
   "cell_type": "code",
   "execution_count": 14,
   "id": "3911a6bf",
   "metadata": {
    "_kg_hide-input": true,
    "execution": {
     "iopub.execute_input": "2023-02-21T22:55:24.409323Z",
     "iopub.status.busy": "2023-02-21T22:55:24.408810Z",
     "iopub.status.idle": "2023-02-21T22:56:51.588152Z",
     "shell.execute_reply": "2023-02-21T22:56:51.586274Z"
    },
    "papermill": {
     "duration": 87.19465,
     "end_time": "2023-02-21T22:56:51.591587",
     "exception": false,
     "start_time": "2023-02-21T22:55:24.396937",
     "status": "completed"
    },
    "tags": []
   },
   "outputs": [
    {
     "name": "stdout",
     "output_type": "stream",
     "text": [
      "Epoch 1/10\n",
      "938/938 [==============================] - 9s 9ms/step - loss: 2.0353 - accuracy: 0.5298\n",
      "Epoch 2/10\n",
      "938/938 [==============================] - 9s 10ms/step - loss: 1.2910 - accuracy: 0.8583\n",
      "Epoch 3/10\n",
      "938/938 [==============================] - 9s 9ms/step - loss: 0.7055 - accuracy: 0.9232\n",
      "Epoch 4/10\n",
      "938/938 [==============================] - 8s 9ms/step - loss: 0.4405 - accuracy: 0.9373\n",
      "Epoch 5/10\n",
      "938/938 [==============================] - 8s 9ms/step - loss: 0.3227 - accuracy: 0.9451\n",
      "Epoch 6/10\n",
      "938/938 [==============================] - 8s 9ms/step - loss: 0.2608 - accuracy: 0.9506\n",
      "Epoch 7/10\n",
      "938/938 [==============================] - 8s 9ms/step - loss: 0.2232 - accuracy: 0.9549\n",
      "Epoch 8/10\n",
      "938/938 [==============================] - 8s 9ms/step - loss: 0.1978 - accuracy: 0.9580\n",
      "Epoch 9/10\n",
      "938/938 [==============================] - 8s 9ms/step - loss: 0.1795 - accuracy: 0.9602\n",
      "Epoch 10/10\n",
      "938/938 [==============================] - 8s 9ms/step - loss: 0.1656 - accuracy: 0.9619\n"
     ]
    },
    {
     "data": {
      "text/plain": [
       "<keras.callbacks.History at 0x7fb2e2cc7450>"
      ]
     },
     "execution_count": 14,
     "metadata": {},
     "output_type": "execute_result"
    }
   ],
   "source": [
    "# Model training\n",
    "model.fit(features_train,y_trainOneHot,epochs=10,batch_size=64)"
   ]
  },
  {
   "cell_type": "code",
   "execution_count": 15,
   "id": "079c5108",
   "metadata": {
    "execution": {
     "iopub.execute_input": "2023-02-21T22:56:51.822791Z",
     "iopub.status.busy": "2023-02-21T22:56:51.820734Z",
     "iopub.status.idle": "2023-02-21T22:56:59.668947Z",
     "shell.execute_reply": "2023-02-21T22:56:59.667460Z"
    },
    "papermill": {
     "duration": 7.964831,
     "end_time": "2023-02-21T22:56:59.672052",
     "exception": false,
     "start_time": "2023-02-21T22:56:51.707221",
     "status": "completed"
    },
    "tags": []
   },
   "outputs": [
    {
     "name": "stdout",
     "output_type": "stream",
     "text": [
      "1875/1875 [==============================] - 6s 3ms/step\n"
     ]
    }
   ],
   "source": [
    "# Predictions\n",
    "prediction_train=model.predict(features_train)"
   ]
  },
  {
   "cell_type": "code",
   "execution_count": 16,
   "id": "c67dd02f",
   "metadata": {
    "execution": {
     "iopub.execute_input": "2023-02-21T22:56:59.913000Z",
     "iopub.status.busy": "2023-02-21T22:56:59.912487Z",
     "iopub.status.idle": "2023-02-21T22:56:59.921863Z",
     "shell.execute_reply": "2023-02-21T22:56:59.920253Z"
    },
    "papermill": {
     "duration": 0.135309,
     "end_time": "2023-02-21T22:56:59.924988",
     "exception": false,
     "start_time": "2023-02-21T22:56:59.789679",
     "status": "completed"
    },
    "tags": []
   },
   "outputs": [
    {
     "data": {
      "text/plain": [
       "array([2.8947566e-04, 4.2494768e-05, 4.9561617e-04, 3.9382187e-01,\n",
       "       2.8577782e-04, 5.9744573e-01, 4.7929486e-04, 1.7148812e-04,\n",
       "       6.4144325e-03, 5.5378716e-04], dtype=float32)"
      ]
     },
     "execution_count": 16,
     "metadata": {},
     "output_type": "execute_result"
    }
   ],
   "source": [
    "# Dimension\n",
    "prediction_train.shape\n",
    "# Element of prediction_train\n",
    "prediction_train[0]"
   ]
  },
  {
   "cell_type": "code",
   "execution_count": 17,
   "id": "27143884",
   "metadata": {
    "execution": {
     "iopub.execute_input": "2023-02-21T22:57:00.166318Z",
     "iopub.status.busy": "2023-02-21T22:57:00.165057Z",
     "iopub.status.idle": "2023-02-21T22:57:00.173052Z",
     "shell.execute_reply": "2023-02-21T22:57:00.172048Z"
    },
    "papermill": {
     "duration": 0.129291,
     "end_time": "2023-02-21T22:57:00.175637",
     "exception": false,
     "start_time": "2023-02-21T22:57:00.046346",
     "status": "completed"
    },
    "tags": []
   },
   "outputs": [],
   "source": [
    "# Predictions (0-9)\n",
    "y_pred_train=np.argmax(prediction_train,1)"
   ]
  },
  {
   "cell_type": "code",
   "execution_count": 18,
   "id": "ffec2590",
   "metadata": {
    "execution": {
     "iopub.execute_input": "2023-02-21T22:57:00.414770Z",
     "iopub.status.busy": "2023-02-21T22:57:00.413253Z",
     "iopub.status.idle": "2023-02-21T22:57:00.422741Z",
     "shell.execute_reply": "2023-02-21T22:57:00.421295Z"
    },
    "papermill": {
     "duration": 0.132696,
     "end_time": "2023-02-21T22:57:00.425690",
     "exception": false,
     "start_time": "2023-02-21T22:57:00.292994",
     "status": "completed"
    },
    "tags": []
   },
   "outputs": [
    {
     "data": {
      "text/plain": [
       "array([5, 0, 4, ..., 5, 6, 8])"
      ]
     },
     "execution_count": 18,
     "metadata": {},
     "output_type": "execute_result"
    }
   ],
   "source": [
    "y_pred_train"
   ]
  },
  {
   "cell_type": "markdown",
   "id": "e396d290",
   "metadata": {
    "papermill": {
     "duration": 0.119955,
     "end_time": "2023-02-21T22:57:00.669640",
     "exception": false,
     "start_time": "2023-02-21T22:57:00.549685",
     "status": "completed"
    },
    "tags": []
   },
   "source": [
    "# <span style=\"color:blue\">4. Testing </span>"
   ]
  },
  {
   "cell_type": "code",
   "execution_count": 19,
   "id": "a8c3d864",
   "metadata": {
    "execution": {
     "iopub.execute_input": "2023-02-21T22:57:00.915164Z",
     "iopub.status.busy": "2023-02-21T22:57:00.914683Z",
     "iopub.status.idle": "2023-02-21T22:57:02.463242Z",
     "shell.execute_reply": "2023-02-21T22:57:02.462101Z"
    },
    "papermill": {
     "duration": 1.676402,
     "end_time": "2023-02-21T22:57:02.466504",
     "exception": false,
     "start_time": "2023-02-21T22:57:00.790102",
     "status": "completed"
    },
    "tags": []
   },
   "outputs": [
    {
     "name": "stdout",
     "output_type": "stream",
     "text": [
      "313/313 [==============================] - 1s 3ms/step\n"
     ]
    }
   ],
   "source": [
    "# Predictions\n",
    "prediction_test=model.predict(features_test)\n",
    "# Predictions (0-9)\n",
    "y_pred_test=np.argmax(prediction_test,1)"
   ]
  },
  {
   "cell_type": "markdown",
   "id": "0e5c5d1b",
   "metadata": {
    "papermill": {
     "duration": 0.207715,
     "end_time": "2023-02-21T22:57:02.794969",
     "exception": false,
     "start_time": "2023-02-21T22:57:02.587254",
     "status": "completed"
    },
    "tags": []
   },
   "source": [
    "## **Calculation of errors**"
   ]
  },
  {
   "cell_type": "code",
   "execution_count": 20,
   "id": "1866d03f",
   "metadata": {
    "execution": {
     "iopub.execute_input": "2023-02-21T22:57:03.036624Z",
     "iopub.status.busy": "2023-02-21T22:57:03.035736Z",
     "iopub.status.idle": "2023-02-21T22:57:03.045041Z",
     "shell.execute_reply": "2023-02-21T22:57:03.043520Z"
    },
    "papermill": {
     "duration": 0.133893,
     "end_time": "2023-02-21T22:57:03.048675",
     "exception": false,
     "start_time": "2023-02-21T22:57:02.914782",
     "status": "completed"
    },
    "tags": []
   },
   "outputs": [
    {
     "name": "stdout",
     "output_type": "stream",
     "text": [
      "Training error is: 3.7%\n",
      "Testing error is: 3.59%\n"
     ]
    }
   ],
   "source": [
    "errorTrain=np.round(100*np.sum(y_pred_train != y_train)/len(y_train),2)\n",
    "errorTest=round(100*np.sum(y_pred_test != y_test)/len(y_test),2)\n",
    "print(\"Training error is: {}%\".format(errorTrain))\n",
    "print(\"Testing error is: {}%\".format(errorTest))"
   ]
  },
  {
   "cell_type": "markdown",
   "id": "5de3efbc",
   "metadata": {
    "papermill": {
     "duration": 0.123984,
     "end_time": "2023-02-21T22:57:03.292412",
     "exception": false,
     "start_time": "2023-02-21T22:57:03.168428",
     "status": "completed"
    },
    "tags": []
   },
   "source": [
    "## **Confusion matrix**"
   ]
  },
  {
   "cell_type": "code",
   "execution_count": 21,
   "id": "f0ca1a0f",
   "metadata": {
    "execution": {
     "iopub.execute_input": "2023-02-21T22:57:03.536030Z",
     "iopub.status.busy": "2023-02-21T22:57:03.534931Z",
     "iopub.status.idle": "2023-02-21T22:57:04.307097Z",
     "shell.execute_reply": "2023-02-21T22:57:04.305659Z"
    },
    "papermill": {
     "duration": 0.895613,
     "end_time": "2023-02-21T22:57:04.310270",
     "exception": false,
     "start_time": "2023-02-21T22:57:03.414657",
     "status": "completed"
    },
    "tags": []
   },
   "outputs": [
    {
     "data": {
      "text/plain": [
       "<sklearn.metrics._plot.confusion_matrix.ConfusionMatrixDisplay at 0x7fb2eae9de90>"
      ]
     },
     "execution_count": 21,
     "metadata": {},
     "output_type": "execute_result"
    },
    {
     "data": {
      "image/png": "[encoded data removed]",
      "text/plain": [
       "<Figure size 640x480 with 2 Axes>"
      ]
     },
     "metadata": {},
     "output_type": "display_data"
    }
   ],
   "source": [
    "# Consfusion matrix\n",
    "conf_mat=confusion_matrix(y_test, y_pred_test)\n",
    "disp=ConfusionMatrixDisplay(confusion_matrix=conf_mat)\n",
    "disp.plot()"
   ]
  },
  {
   "cell_type": "code",
   "execution_count": 22,
   "id": "8f2a476f",
   "metadata": {
    "execution": {
     "iopub.execute_input": "2023-02-21T22:57:04.554567Z",
     "iopub.status.busy": "2023-02-21T22:57:04.553587Z",
     "iopub.status.idle": "2023-02-21T22:57:05.315146Z",
     "shell.execute_reply": "2023-02-21T22:57:05.313471Z"
    },
    "papermill": {
     "duration": 0.88748,
     "end_time": "2023-02-21T22:57:05.318069",
     "exception": false,
     "start_time": "2023-02-21T22:57:04.430589",
     "status": "completed"
    },
    "tags": []
   },
   "outputs": [
    {
     "data": {
      "text/plain": [
       "<sklearn.metrics._plot.confusion_matrix.ConfusionMatrixDisplay at 0x7fb2e24d0490>"
      ]
     },
     "execution_count": 22,
     "metadata": {},
     "output_type": "execute_result"
    },
    {
     "data": {
      "image/png": "[encoded data removed]",
      "text/plain": [
       "<Figure size 640x480 with 2 Axes>"
      ]
     },
     "metadata": {},
     "output_type": "display_data"
    }
   ],
   "source": [
    "# Normalized consfusion matrix\n",
    "conf_mat_norm=np.round(100*conf_mat/np.sum(conf_mat,1),1)\n",
    "disp_norm=ConfusionMatrixDisplay(confusion_matrix=conf_mat_norm)\n",
    "disp_norm.plot()"
   ]
  }
 ],
 "metadata": {
  "kernelspec": {
   "display_name": "Python 3",
   "language": "python",
   "name": "python3"
  },
  "language_info": {
   "codemirror_mode": {
    "name": "ipython",
    "version": 3
   },
   "file_extension": ".py",
   "mimetype": "text/x-python",
   "name": "python",
   "nbconvert_exporter": "python",
   "pygments_lexer": "ipython3",
   "version": "3.7.12"
  },
  "papermill": {
   "default_parameters": {},
   "duration": 140.812546,
   "end_time": "2023-02-21T22:57:08.732974",
   "environment_variables": {},
   "exception": null,
   "input_path": "__notebook__.ipynb",
   "output_path": "__notebook__.ipynb",
   "parameters": {},
   "start_time": "2023-02-21T22:54:47.920428",
   "version": "2.3.4"
  }
 },
 "nbformat": 4,
 "nbformat_minor": 5
}
